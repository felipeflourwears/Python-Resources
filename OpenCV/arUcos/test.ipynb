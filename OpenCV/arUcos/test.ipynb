{
 "cells": [
  {
   "cell_type": "code",
   "execution_count": 1,
   "metadata": {},
   "outputs": [],
   "source": [
    "import cv2 as cv\n",
    "import matplotlib.pyplot as plt\n",
    "\n",
    "# Cargar la imagen\n",
    "image = cv.imread('foto.png')\n"
   ]
  },
  {
   "cell_type": "code",
   "execution_count": 2,
   "metadata": {},
   "outputs": [],
   "source": [
    "# Convertir la imagen a escala de grises\n",
    "gray = cv.cvtColor(image, cv.COLOR_BGR2GRAY)\n",
    "\n",
    "# Definir el diccionario de marcadores ArUco\n",
    "aruco_dict = cv.aruco.getPredefinedDictionary(cv.aruco.DICT_4X4_250)\n",
    "\n",
    "# Detectar los marcadores en la imagen\n",
    "markerCorners, markerIds, rejectedCandidates = cv.aruco.detectMarkers(gray, aruco_dict)\n",
    "\n",
    "# Dibujar los marcadores detectados en la imagen\n",
    "image_with_markers = cv.aruco.drawDetectedMarkers(image.copy(), markerCorners, markerIds)\n"
   ]
  },
  {
   "cell_type": "code",
   "execution_count": 3,
   "metadata": {},
   "outputs": [
    {
     "data": {
      "image/png": "[encoded data removed]",
      "text/plain": [
       "<Figure size 640x480 with 1 Axes>"
      ]
     },
     "metadata": {},
     "output_type": "display_data"
    }
   ],
   "source": [
    "\n",
    "# Visualizar la imagen con los marcadores\n",
    "plt.imshow(cv.cvtColor(image_with_markers, cv.COLOR_BGR2RGB))\n",
    "plt.axis('off')\n",
    "plt.show()"
   ]
  }
 ],
 "metadata": {
  "kernelspec": {
   "display_name": "Python 3",
   "language": "python",
   "name": "python3"
  },
  "language_info": {
   "codemirror_mode": {
    "name": "ipython",
    "version": 3
   },
   "file_extension": ".py",
   "mimetype": "text/x-python",
   "name": "python",
   "nbconvert_exporter": "python",
   "pygments_lexer": "ipython3",
   "version": "3.11.3"
  },
  "orig_nbformat": 4
 },
 "nbformat": 4,
 "nbformat_minor": 2
}
